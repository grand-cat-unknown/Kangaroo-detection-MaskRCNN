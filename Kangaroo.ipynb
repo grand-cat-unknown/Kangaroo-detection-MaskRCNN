{
  "nbformat": 4,
  "nbformat_minor": 0,
  "metadata": {
    "colab": {
      "name": "Kangaroo",
      "provenance": [],
      "collapsed_sections": [],
      "include_colab_link": true
    },
    "kernelspec": {
      "name": "python3",
      "display_name": "Python 3"
    }
  },
  "cells": [
    {
      "cell_type": "markdown",
      "metadata": {
        "id": "view-in-github",
        "colab_type": "text"
      },
      "source": [
        "<a href=\"https://colab.research.google.com/github/grand-cat-unknown/Kangaroo-detection-MaskRCNN/blob/master/Kangaroo.ipynb\" target=\"_parent\"><img src=\"https://colab.research.google.com/assets/colab-badge.svg\" alt=\"Open In Colab\"/></a>"
      ]
    },
    {
      "cell_type": "code",
      "metadata": {
        "id": "gHgZqUH_6NPk",
        "colab_type": "code",
        "colab": {
          "base_uri": "https://localhost:8080/",
          "height": 34
        },
        "outputId": "8e6ffa69-8abb-4226-d364-675089ec4bb4"
      },
      "source": [
        "%tensorflow_version 1.x\n",
        "!git clone https://github.com/matterport/Mask_RCNN.git"
      ],
      "execution_count": 1,
      "outputs": [
        {
          "output_type": "stream",
          "text": [
            "fatal: destination path 'Mask_RCNN' already exists and is not an empty directory.\n"
          ],
          "name": "stdout"
        }
      ]
    },
    {
      "cell_type": "code",
      "metadata": {
        "id": "u5_0FNrl6TPZ",
        "colab_type": "code",
        "colab": {
          "base_uri": "https://localhost:8080/",
          "height": 731
        },
        "outputId": "13d64703-1977-4eba-815e-5db15cff3612"
      },
      "source": [
        "!cd Mask_RCNN && python setup.py install\n",
        "\n",
        "import sys\n",
        "sys.path.append('Mask_RCNN/')"
      ],
      "execution_count": 2,
      "outputs": [
        {
          "output_type": "stream",
          "text": [
            "WARNING:root:Fail load requirements file, so using default ones.\n",
            "running install\n",
            "running bdist_egg\n",
            "running egg_info\n",
            "writing mask_rcnn.egg-info/PKG-INFO\n",
            "writing dependency_links to mask_rcnn.egg-info/dependency_links.txt\n",
            "writing top-level names to mask_rcnn.egg-info/top_level.txt\n",
            "reading manifest template 'MANIFEST.in'\n",
            "writing manifest file 'mask_rcnn.egg-info/SOURCES.txt'\n",
            "installing library code to build/bdist.linux-x86_64/egg\n",
            "running install_lib\n",
            "running build_py\n",
            "creating build/bdist.linux-x86_64/egg\n",
            "creating build/bdist.linux-x86_64/egg/mrcnn\n",
            "copying build/lib/mrcnn/__init__.py -> build/bdist.linux-x86_64/egg/mrcnn\n",
            "copying build/lib/mrcnn/config.py -> build/bdist.linux-x86_64/egg/mrcnn\n",
            "copying build/lib/mrcnn/model.py -> build/bdist.linux-x86_64/egg/mrcnn\n",
            "copying build/lib/mrcnn/utils.py -> build/bdist.linux-x86_64/egg/mrcnn\n",
            "copying build/lib/mrcnn/parallel_model.py -> build/bdist.linux-x86_64/egg/mrcnn\n",
            "copying build/lib/mrcnn/visualize.py -> build/bdist.linux-x86_64/egg/mrcnn\n",
            "byte-compiling build/bdist.linux-x86_64/egg/mrcnn/__init__.py to __init__.cpython-36.pyc\n",
            "byte-compiling build/bdist.linux-x86_64/egg/mrcnn/config.py to config.cpython-36.pyc\n",
            "byte-compiling build/bdist.linux-x86_64/egg/mrcnn/model.py to model.cpython-36.pyc\n",
            "byte-compiling build/bdist.linux-x86_64/egg/mrcnn/utils.py to utils.cpython-36.pyc\n",
            "byte-compiling build/bdist.linux-x86_64/egg/mrcnn/parallel_model.py to parallel_model.cpython-36.pyc\n",
            "byte-compiling build/bdist.linux-x86_64/egg/mrcnn/visualize.py to visualize.cpython-36.pyc\n",
            "creating build/bdist.linux-x86_64/egg/EGG-INFO\n",
            "copying mask_rcnn.egg-info/PKG-INFO -> build/bdist.linux-x86_64/egg/EGG-INFO\n",
            "copying mask_rcnn.egg-info/SOURCES.txt -> build/bdist.linux-x86_64/egg/EGG-INFO\n",
            "copying mask_rcnn.egg-info/dependency_links.txt -> build/bdist.linux-x86_64/egg/EGG-INFO\n",
            "copying mask_rcnn.egg-info/top_level.txt -> build/bdist.linux-x86_64/egg/EGG-INFO\n",
            "zip_safe flag not set; analyzing archive contents...\n",
            "creating 'dist/mask_rcnn-2.1-py3.6.egg' and adding 'build/bdist.linux-x86_64/egg' to it\n",
            "removing 'build/bdist.linux-x86_64/egg' (and everything under it)\n",
            "Processing mask_rcnn-2.1-py3.6.egg\n",
            "Removing /usr/local/lib/python3.6/dist-packages/mask_rcnn-2.1-py3.6.egg\n",
            "Copying mask_rcnn-2.1-py3.6.egg to /usr/local/lib/python3.6/dist-packages\n",
            "mask-rcnn 2.1 is already the active version in easy-install.pth\n",
            "\n",
            "Installed /usr/local/lib/python3.6/dist-packages/mask_rcnn-2.1-py3.6.egg\n",
            "Processing dependencies for mask-rcnn==2.1\n",
            "Finished processing dependencies for mask-rcnn==2.1\n"
          ],
          "name": "stdout"
        }
      ]
    },
    {
      "cell_type": "code",
      "metadata": {
        "id": "p0IZVFkv6bi5",
        "colab_type": "code",
        "colab": {
          "base_uri": "https://localhost:8080/",
          "height": 34
        },
        "outputId": "7539ebef-6ec8-4228-f1d1-b1a5ba36f416"
      },
      "source": [
        "!git clone https://github.com/experiencor/kangaroo.git"
      ],
      "execution_count": 3,
      "outputs": [
        {
          "output_type": "stream",
          "text": [
            "fatal: destination path 'kangaroo' already exists and is not an empty directory.\n"
          ],
          "name": "stdout"
        }
      ]
    },
    {
      "cell_type": "code",
      "metadata": {
        "id": "RS2iWAcg6eaO",
        "colab_type": "code",
        "colab": {}
      },
      "source": [
        "import xml.etree.ElementTree as ET \n"
      ],
      "execution_count": 0,
      "outputs": []
    },
    {
      "cell_type": "code",
      "metadata": {
        "id": "PpFPUNtO8Kza",
        "colab_type": "code",
        "colab": {}
      },
      "source": [
        "import subprocess\n",
        "import os\n",
        "\n",
        "# Annot_list = os.listdir(Annot_dir)\n",
        "# sort(Annot_list)"
      ],
      "execution_count": 0,
      "outputs": []
    },
    {
      "cell_type": "code",
      "metadata": {
        "id": "qcSuG63U-2Yt",
        "colab_type": "code",
        "colab": {}
      },
      "source": [
        "from os import listdir\n",
        "from xml.etree import ElementTree\n",
        "from numpy import zeros\n",
        "from numpy import asarray\n",
        "from mrcnn.utils import Dataset\n",
        "\n",
        "DatasetDir = 'kangaroo/'\n",
        "Annot_dir = DatasetDir+'annots/'\n",
        "Img_dir = DatasetDir+'images/'\n",
        "\n",
        "\n"
      ],
      "execution_count": 0,
      "outputs": []
    },
    {
      "cell_type": "code",
      "metadata": {
        "id": "SNiJPA3LupX7",
        "colab_type": "code",
        "colab": {}
      },
      "source": [
        "class KangraooDataset(Dataset):\n",
        "  def extract_boxes(self,filename):\n",
        "    parsed_xml = ET.parse(filename)\n",
        "    width = 0\n",
        "    height = 0\n",
        "    for fact in parsed_xml.iter(tag = 'size'):\n",
        "      width =  fact.find('width').text\n",
        "      height =  fact.find('height').text\n",
        "\n",
        "    lst1 = []\n",
        "    for box in parsed_xml.iter(tag = 'object'):\n",
        "      for box_dim in box.iter(tag = 'bndbox'):\n",
        "        xmin =  int(box_dim.find('xmin').text)\n",
        "        xmax =  int(box_dim.find('xmax').text)\n",
        "        ymin =  int(box_dim.find('ymin').text)\n",
        "        ymax =  int(box_dim.find('ymax').text)\n",
        "        lst1.append([xmin,ymin,xmax,ymax])\n",
        "    return lst1, width, height\n",
        "\n",
        "  def load_dataset(self, dataset_dir, is_train=True, train_data_percentage = 0.5):\n",
        "    print(f\"{is_train}\")\n",
        "    # ADD CLASSES HERE     \n",
        "    # ADD CLASSES HERE\n",
        "    # ADD CLASSES HERE\n",
        "    # ADD CLASSES HERE\n",
        "\n",
        "    self.add_class(\"dataset\", 1, \"kangaroo\")\n",
        "    image_id = ''\n",
        "    filename_list = sorted(os.listdir(Img_dir))\n",
        "    # print(train_data_percentage*len(filename_list))\n",
        "    for itr1 in range(0,len(filename_list)):\n",
        "\n",
        "      if itr1 in [89]:\n",
        "        continue\n",
        "      if (is_train == True) and (itr1 >= train_data_percentage*len(filename_list)):\n",
        "        # print(itr1)\n",
        "        continue\n",
        "      if (is_train == False) and (itr1 < train_data_percentage*len(filename_list)):\n",
        "        continue\n",
        "      ### ADD ERROR IMAGES HERE\n",
        "      ### ADD ERROR IMAGES HERE\n",
        "      ### ADD ERROR IMAGES HERE\n",
        "      # print(itr1)\n",
        "\n",
        "      image_id = filename_list[itr1][:-4]\n",
        "      # print(image_id)\n",
        "      self.add_image('dataset', image_id=image_id, path=Img_dir+filename_list[itr1], annotation=Annot_dir+image_id+'.xml')\n",
        "\n",
        "    def load_mask(self, image_id):\n",
        "      # get details of image\n",
        "      info = self.image_info[image_id]\n",
        "      # define box file location\n",
        "      path = info['annotation']\n",
        "      # load XML\n",
        "      boxes, w, h = self.extract_boxes(path)\n",
        "      # create one array for all masks, each on a different channel\n",
        "      masks = zeros([h, w, len(boxes)], dtype='uint8')\n",
        "      # create masks\n",
        "      class_ids = list()\n",
        "      for i in range(len(boxes)):\n",
        "        box = boxes[i]\n",
        "        row_s, row_e = box[1], box[3]\n",
        "        col_s, col_e = box[0], box[2]\n",
        "        masks[row_s:row_e, col_s:col_e, i] = 1\n",
        "\n",
        "        ### CHANGE THE NAME HERE FOR CLASS INDEX\n",
        "        ### CHANGE THE NAME HERE FOR CLASS INDEX\n",
        "        ### CHANGE THE NAME HERE FOR CLASS INDEX\n",
        "        ### CHANGE THE NAME HERE FOR CLASS INDEX\n",
        "\n",
        "        class_ids.append(self.class_names.index('kangaroo'))\n",
        "      return masks, asarray(class_ids, dtype='int32')\n",
        "\n",
        "    def image_reference(self, image_id):\n",
        "      info = self.image_info[image_id]\n",
        "      return info['path']\n"
      ],
      "execution_count": 0,
      "outputs": []
    },
    {
      "cell_type": "code",
      "metadata": {
        "id": "tl5N-0FuxxrP",
        "colab_type": "code",
        "colab": {
          "base_uri": "https://localhost:8080/",
          "height": 51
        },
        "outputId": "645d8521-d27c-4516-df1f-092fdda29f51"
      },
      "source": [
        "train_set = KangraooDataset()\n",
        "train_set.load_dataset('kangaroo', is_train=True,train_data_percentage = 0.8)\n",
        "train_set.prepare()\n",
        "print('Train: %d' % len(train_set.image_ids))"
      ],
      "execution_count": 8,
      "outputs": [
        {
          "output_type": "stream",
          "text": [
            "True\n",
            "Train: 131\n"
          ],
          "name": "stdout"
        }
      ]
    },
    {
      "cell_type": "code",
      "metadata": {
        "id": "JXK2c_EI0Woc",
        "colab_type": "code",
        "colab": {
          "base_uri": "https://localhost:8080/",
          "height": 51
        },
        "outputId": "5816f391-fa52-43fd-d21c-ccd640a57df0"
      },
      "source": [
        "val_set = KangraooDataset()\n",
        "val_set.load_dataset('kangaroo', is_train=False,train_data_percentage = 0.8)\n",
        "val_set.prepare()\n",
        "print('Val: %d' % len(val_set.image_ids))"
      ],
      "execution_count": 12,
      "outputs": [
        {
          "output_type": "stream",
          "text": [
            "False\n",
            "Val: 32\n"
          ],
          "name": "stdout"
        }
      ]
    },
    {
      "cell_type": "code",
      "metadata": {
        "id": "BcOqLBLs0kek",
        "colab_type": "code",
        "colab": {
          "base_uri": "https://localhost:8080/",
          "height": 51
        },
        "outputId": "d5ea2876-9cd6-4ed6-91b7-11967d1e505e"
      },
      "source": [
        "from mrcnn.visualize import display_instances\n",
        "from mrcnn.utils import extract_bboxes\n",
        "# define image id\n",
        "image_id = '00001'\n",
        "# load the image\n",
        "# image = train_set.load_image(image_id)\n",
        "# load the masks and the class ids\n",
        "mask, class_ids = train_set.load_mask(image_id)\n",
        "print(mask)\n",
        "# extract bounding boxes from the masks\n",
        "bbox = extract_bboxes(mask)\n",
        "# display image with masks and bounding boxes\n",
        "# display_instances(image, bbox, mask, class_ids, train_set.class_names)"
      ],
      "execution_count": 17,
      "outputs": [
        {
          "output_type": "stream",
          "text": [
            "WARNING:root:You are using the default load_mask(), maybe you need to define your own one.\n"
          ],
          "name": "stderr"
        },
        {
          "output_type": "stream",
          "text": [
            "[]\n"
          ],
          "name": "stdout"
        }
      ]
    },
    {
      "cell_type": "code",
      "metadata": {
        "id": "cP9iLslL8GcZ",
        "colab_type": "code",
        "colab": {}
      },
      "source": [
        ""
      ],
      "execution_count": 0,
      "outputs": []
    }
  ]
}